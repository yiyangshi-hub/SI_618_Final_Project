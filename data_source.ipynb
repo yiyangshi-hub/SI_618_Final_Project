{
 "cells": [
  {
   "cell_type": "markdown",
   "metadata": {},
   "source": [
    "**Data Sources and Acquisition Method:**\n",
    "\n",
    "1. **American Community Survey (ACS) Data:**\n",
    "   - We obtained demographic and socio-economic data, such as population, median income, median house value, and demographic breakdown (number of white, black, indigenous, Asian, islanders, and others), from the American Community Survey (ACS) using Python.\n",
    "   - We accessed this data via the ACS API by obtaining an API key and pulling the relevant variables at the county level for specific states including Connecticut, Colorado, South Carolina, Washington, Wisconsin, Arizona, and Texas.\n",
    "   - Link to this source: https://www.census.gov/programs-surveys/acs/data/data-via-api.html\n",
    "\n",
    "2. **Car Sale Dataset (Kaggle):**\n",
    "   - We acquired the dataset containing information about car sales, customer demographics, vehicle details, and dealership information from Kaggle.\n",
    "   - It includes variables such as customer name, gender, annual income, dealer name, company, model, engine, transmission, color, price, dealer number, body style, phone, and dealer region.\n",
    "   - By merging the car sale dataset with the ACS dataset based on the dealer region and state information, we can explore relationships between car sales and demographic/economic factors. This integration allows us to analyze whether there's a correlation between median income levels in a county and the types of cars sold in that area.\n",
    "   - Link to this source: https://www.kaggle.com/datasets/missionjee/car-sales-report\n",
    "\n",
    "3. **Auto Information Dataset (Kaggle):**\n",
    "   - We sourced the dataset providing detailed information about various car attributes such as make, model, year, engine specifications, fuel type, MPG, vehicle size, and price from Kaggle.\n",
    "   - Variables include make, model, year, engine fuel type, engine horsepower, engine cylinders, transmission type, driven wheels, number of doors, market category, vehicle size, vehicle style, highway MPG, city MPG, and MSRP.\n",
    "   - By linking the car sale dataset with the ACS dataset using the dealer region/state information, we can analyze the relationship between demographic/economic factors and car attributes/preferences. For example, we can investigate whether there's a correlation between median house values in a county and the popularity of certain vehicle styles.\n",
    "   - Link to this source: https://www.kaggle.com/datasets/CooperUnion/cardataset\n",
    "\n",
    "By utilizing the Python programming language and libraries, we were able to access, clean, and preprocess the data from both the ACS API and Kaggle datasets, ensuring that it is ready for analysis. The combination of these datasets allows for a comprehensive examination of car sales patterns, demographic characteristics, and car attributes, facilitating informed decision-making and insights for our project."
   ]
  },
  {
   "cell_type": "markdown",
   "metadata": {},
   "source": []
  }
 ],
 "metadata": {
  "language_info": {
   "name": "python"
  }
 },
 "nbformat": 4,
 "nbformat_minor": 2
}
